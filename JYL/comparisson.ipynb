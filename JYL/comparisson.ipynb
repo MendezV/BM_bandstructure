{
 "cells": [
  {
   "cell_type": "code",
   "execution_count": 112,
   "metadata": {},
   "outputs": [],
   "source": [
    "import numpy as np\n",
    "import matplotlib.pyplot as plt\n",
    "import MoireLattice\n",
    "import scipy.linalg as la\n"
   ]
  },
  {
   "cell_type": "code",
   "execution_count": 113,
   "metadata": {},
   "outputs": [],
   "source": [
    "FFLrp=np.loadtxt('JYLdata/FFLplus_nem3_real_0_0.txt')\n",
    "FFLip=np.loadtxt('JYLdata/FFLplus_nem3_imag_0_0.txt')\n",
    "Omega_FFp_0=FFLrp+1j*FFLip\n",
    "FFLrm=np.loadtxt('JYLdata/FFLminus_nem3_real_0_0.txt')\n",
    "FFLim=np.loadtxt('JYLdata/FFLminus_nem3_imag_0_0.txt')\n",
    "Omega_FFm_0=FFLrm+1j*FFLim"
   ]
  },
  {
   "cell_type": "code",
   "execution_count": 114,
   "metadata": {},
   "outputs": [],
   "source": [
    "Omega_FFp=np.reshape(Omega_FFp_0, [36,36,7*7,2,2], order='F')\n",
    "Omega_FFm=np.reshape(Omega_FFm_0, [36,36,7*7,2,2], order='F')"
   ]
  },
  {
   "cell_type": "code",
   "execution_count": 115,
   "metadata": {},
   "outputs": [
    {
     "name": "stdout",
     "output_type": "stream",
     "text": [
      "starting sampling in reciprocal space....\n",
      "finished sampling in reciprocal space....t= 0.002627134323120117  s\n"
     ]
    }
   ],
   "source": [
    "#Lattice parameters \n",
    "#lattices with different normalizations \n",
    "Nsamp=6\n",
    "theta=1.05*np.pi/180  # magic angle \n",
    "latt=MoireLattice.MoireTriangLattice(Nsamp,theta,2) #this one \n",
    "l=MoireLattice.MoireTriangLattice(Nsamp,theta,0)\n",
    "latt=latt\n",
    "\n",
    "[q1,q2,q3]=l.q\n",
    "q=np.sqrt(q1@q1)\n",
    "# print(latt.Npoints, \"points in the lattice\")\n",
    "umkl=1\n",
    "[KX1bz, KY1bz]=latt.Generate_lattice() #for the integration grid, we integrate over these\n",
    "[KX,KY]=latt.Generate_Umklapp_lattice2(KX1bz, KY1bz,umkl) #for the q external momenta\n",
    "[KQX,KQY]=latt.Generate_Umklapp_lattice2(KX1bz, KY1bz,umkl+1) #for the momentum transfer lattice\n",
    "Npoi1bz=np.size(KX1bz)\n",
    "Npoi=np.size(KX)\n",
    "NpoiQ=np.size(KQX)\n",
    "\n",
    "Ik=latt.insertion_index( KX1bz,KY1bz, KQX, KQY)\n",
    "[q1,q2,q3]=latt.qvect()\n",
    "qscale=la.norm(q1) #necessary for rescaling since we where working with a normalized lattice \n",
    "dS_in=1/Npoi1bz"
   ]
  },
  {
   "cell_type": "code",
   "execution_count": 116,
   "metadata": {},
   "outputs": [
    {
     "data": {
      "text/plain": [
       "<matplotlib.collections.PathCollection at 0x7f850d3e0910>"
      ]
     },
     "execution_count": 116,
     "metadata": {},
     "output_type": "execute_result"
    },
    {
     "data": {
      "image/png": "[encoded data removed]",
      "text/plain": [
       "<Figure size 432x288 with 1 Axes>"
      ]
     },
     "metadata": {
      "needs_background": "light"
     },
     "output_type": "display_data"
    }
   ],
   "source": [
    "plt.scatter(GM1[0]*j1_matrix+GM2[0]*j2_matrix,GM1[1]*j1_matrix+GM2[1]*j2_matrix)"
   ]
  },
  {
   "cell_type": "code",
   "execution_count": 117,
   "metadata": {},
   "outputs": [
    {
     "name": "stdout",
     "output_type": "stream",
     "text": [
      "testing symmetry of the form factors...\n"
     ]
    }
   ],
   "source": [
    "\n",
    "print(\"testing symmetry of the form factors...\")\n",
    "[KXc3z,KYc3z, Indc3z]=latt.C3zLatt(KX1bz,KY1bz)\n",
    "diffarp=[]\n",
    "diffarm=[]\n",
    "K=[]\n",
    "KP=[]\n",
    "cos1=[]\n",
    "cos2=[]\n",
    "kp=np.argmin(KX1bz**2 +KY1bz**2)\n",
    "for k in range(Npoi1bz-1):\n",
    "    K.append(KX1bz[k]-KX1bz[kp])\n",
    "    KP.append(KY1bz[k]-KY1bz[kp])\n",
    "    #Regular FF\n",
    "    # Plus Valley FF Omega\n",
    "    undet=np.abs(np.linalg.det(Omega_FFp[k,kp,0,:,:]))\n",
    "    cos1.append(undet)\n",
    "    "
   ]
  },
  {
   "cell_type": "code",
   "execution_count": 118,
   "metadata": {},
   "outputs": [
    {
     "data": {
      "text/plain": [
       "<matplotlib.collections.PathCollection at 0x7f850d319b50>"
      ]
     },
     "execution_count": 118,
     "metadata": {},
     "output_type": "execute_result"
    },
    {
     "data": {
      "image/png": "[encoded data removed]",
      "text/plain": [
       "<Figure size 432x288 with 1 Axes>"
      ]
     },
     "metadata": {
      "needs_background": "light"
     },
     "output_type": "display_data"
    }
   ],
   "source": [
    "plt.scatter(K,KP,c=np.log(np.array(cos1)))"
   ]
  },
  {
   "cell_type": "code",
   "execution_count": null,
   "metadata": {},
   "outputs": [],
   "source": []
  },
  {
   "cell_type": "code",
   "execution_count": null,
   "metadata": {},
   "outputs": [],
   "source": []
  },
  {
   "cell_type": "code",
   "execution_count": 119,
   "metadata": {},
   "outputs": [
    {
     "name": "stdout",
     "output_type": "stream",
     "text": [
      "starting sampling in reciprocal space....\n",
      "finished sampling in reciprocal space....t= 0.0024330615997314453  s\n"
     ]
    }
   ],
   "source": [
    "#Lattice parameters \n",
    "#lattices with different normalizations \n",
    "Nsamp=6\n",
    "theta=1.05*np.pi/180  # magic angle \n",
    "latt=MoireLattice.MoireTriangLattice(Nsamp,theta,2) #this one \n",
    "l=MoireLattice.MoireTriangLattice(Nsamp,theta,0)\n",
    "latt=latt\n",
    "\n",
    "[q1,q2,q3]=l.q\n",
    "q=np.sqrt(q1@q1)\n",
    "# print(latt.Npoints, \"points in the lattice\")\n",
    "umkl=1\n",
    "[KX1bz, KY1bz]=latt.Generate_lattice() #for the integration grid, we integrate over these\n",
    "[KX,KY]=latt.Generate_Umklapp_lattice2(KX1bz, KY1bz,umkl) #for the q external momenta\n",
    "[KQX,KQY]=latt.Generate_Umklapp_lattice2(KX1bz, KY1bz,umkl+1) #for the momentum transfer lattice\n",
    "Npoi1bz=np.size(KX1bz)\n",
    "Npoi=np.size(KX)\n",
    "NpoiQ=np.size(KQX)\n",
    "\n",
    "Ik=latt.insertion_index( KX1bz,KY1bz, KQX, KQY)\n",
    "[q1,q2,q3]=latt.qvect()\n",
    "qscale=la.norm(q1) #necessary for rescaling since we where working with a normalized lattice \n",
    "dS_in=1/Npoi1bz"
   ]
  },
  {
   "cell_type": "code",
   "execution_count": 120,
   "metadata": {},
   "outputs": [],
   "source": [
    "Nsamp=6\n",
    "Mesh=[Nsamp,Nsamp]\n",
    "\n",
    "theta=1.05*np.pi/180  # magic angle\n",
    "lq=MoireLattice.MoireTriangLattice(Nsamp,theta,2) #this one\n",
    "[GM1,GM2]=lq.GMvec\n",
    "\n",
    "a0 = 1;\n",
    "k_D = 4*np.pi/(3*np.sqrt(3)*a0);\n",
    "\n",
    "q1 = k_D*2*np.sin(theta/2)*np.array([0,-1]);\n",
    "q2 = k_D*2*np.sin(theta/2)*np.array([np.sqrt(3)/2,1/2]);\n",
    "q3 = k_D*2*np.sin(theta/2)*np.array([-np.sqrt(3)/2,1/2]);\n",
    "\n",
    "G1 = q2 - q3;\n",
    "G2 = q2 - q1;\n",
    "\n",
    "j1_list=np.arange(0,Mesh[0])-np.floor(Mesh[0]/2)\n",
    "j2_list=np.arange(0,Mesh[1])-np.floor(Mesh[1]/2)\n",
    "\n",
    "j1_matrix,j2_matrix=np.meshgrid(j1_list,j2_list)\n",
    "\n",
    "Em=np.loadtxt('JYLdata/Em_0_0.txt')"
   ]
  },
  {
   "cell_type": "code",
   "execution_count": 127,
   "metadata": {},
   "outputs": [
    {
     "name": "stdout",
     "output_type": "stream",
     "text": [
      "[0.8660254 1.5      ] [0.07676252 0.        ]\n",
      "[-1.73205081  0.        ] [0.03838126 0.06647829]\n",
      "1.732050807568883\n",
      "1.7320508075688774\n"
     ]
    },
    {
     "data": {
      "image/png": "[encoded data removed]",
      "text/plain": [
       "<Figure size 432x288 with 2 Axes>"
      ]
     },
     "metadata": {
      "needs_background": "light"
     },
     "output_type": "display_data"
    }
   ],
   "source": [
    "# np.shape(Em)\n",
    "kx=-GM2[0]*j1_matrix/Mesh[0]+GM1[0]*j2_matrix/Mesh[1]\n",
    "ky=-GM2[1]*j1_matrix/Mesh[0]+GM1[1]*j2_matrix/Mesh[1]\n",
    "\n",
    "kx2=kx.flatten()\n",
    "ky2=ky.flatten()\n",
    "plt.scatter(kx2,ky2, c=Em[1])\n",
    "plt.colorbar()\n",
    "\n",
    "print(GM1,G1)\n",
    "print(GM2,G2)\n",
    "print(GM1[1]/GM1[0])\n",
    "print(G2[1]/G2[0])\n"
   ]
  },
  {
   "cell_type": "code",
   "execution_count": 123,
   "metadata": {},
   "outputs": [
    {
     "data": {
      "text/plain": [
       "<matplotlib.colorbar.Colorbar at 0x7f84fe229390>"
      ]
     },
     "execution_count": 123,
     "metadata": {},
     "output_type": "execute_result"
    },
    {
     "data": {
      "image/png": "[encoded data removed]",
      "text/plain": [
       "<Figure size 432x288 with 2 Axes>"
      ]
     },
     "metadata": {
      "needs_background": "light"
     },
     "output_type": "display_data"
    }
   ],
   "source": [
    "# np.shape(Em)\n",
    "kx3=(G1[0]*j1_matrix+G2[0]*j2_matrix).flatten()\n",
    "ky3=(G1[1]*j1_matrix+G2[1]*j2_matrix).flatten()\n",
    "plt.scatter(,, c=Em[1])\n",
    "plt.colorbar()"
   ]
  },
  {
   "cell_type": "code",
   "execution_count": 104,
   "metadata": {},
   "outputs": [
    {
     "name": "stdout",
     "output_type": "stream",
     "text": [
      "(6, 6)\n"
     ]
    }
   ],
   "source": [
    "import Hamiltonian\n",
    "hbvf = (3/(2*np.sqrt(3)))*2.7; # eV\n",
    "hvkd=hbvf*q\n",
    "kappa=0.75\n",
    "up = 0.105; # eV\n",
    "u = kappa*up; # eV\n",
    "alpha=up/hvkd\n",
    "alph=alpha\n",
    "PH=True\n",
    "\n",
    "hpl=Hamiltonian.Ham_BM_p(hvkd, alph, 1, lq, kappa, PH)\n",
    "hmin=Hamiltonian.Ham_BM_p(hvkd, alph, -1, lq, kappa, PH)\n",
    "NP=np.shape(kx)\n",
    "print(NP)\n"
   ]
  },
  {
   "cell_type": "code",
   "execution_count": 128,
   "metadata": {},
   "outputs": [
    {
     "name": "stdout",
     "output_type": "stream",
     "text": [
      "starting dispersion with 36 points..........\n"
     ]
    }
   ],
   "source": [
    "Ene_valley_plus_a=np.empty((0))\n",
    "Ene_valley_min_a=np.empty((0))\n",
    "psi_plus_a=[]\n",
    "psi_min_a=[]\n",
    "\n",
    "nbands=2\n",
    "NP=np.size(kx2)\n",
    "\n",
    "print(f\"starting dispersion with {NP} points..........\")\n",
    "\n",
    "\n",
    "for l in range(NP):\n",
    "    E1,wave1=hpl.eigens(kx2[l],ky2[l],nbands)\n",
    "    Ene_valley_plus_a=np.append(Ene_valley_plus_a,E1)\n",
    "    psi_plus_a.append(wave1)\n",
    "    E1,wave1=hmin.eigens(kx2[l],ky2[l],nbands)\n",
    "    Ene_valley_min_a=np.append(Ene_valley_min_a,E1)\n",
    "    psi_min_a.append(wave1)\n",
    "    # printProgressBar(l + 1, Npoi_Q, prefix = 'Progress Diag2:', suffix = 'Complete', length = 50)\n",
    "\n",
    "##relevant wavefunctions and energies for the + valley\n",
    "psi_plus=np.array(psi_plus_a)\n",
    "Ene_valley_plus= np.reshape(Ene_valley_plus_a,[NP,nbands])\n",
    "psi_min=np.array(psi_min_a)\n",
    "Ene_valley_min= np.reshape(Ene_valley_min_a,[NP,nbands])\n",
    "\n"
   ]
  },
  {
   "cell_type": "code",
   "execution_count": 129,
   "metadata": {},
   "outputs": [
    {
     "data": {
      "text/plain": [
       "<matplotlib.colorbar.Colorbar at 0x7f84ffbc4610>"
      ]
     },
     "execution_count": 129,
     "metadata": {},
     "output_type": "execute_result"
    },
    {
     "data": {
      "image/png": "[encoded data removed]",
      "text/plain": [
       "<Figure size 432x288 with 2 Axes>"
      ]
     },
     "metadata": {
      "needs_background": "light"
     },
     "output_type": "display_data"
    }
   ],
   "source": [
    "plt.scatter(kx2,ky2,c=Ene_valley_min[:,1])\n",
    "plt.colorbar()"
   ]
  },
  {
   "cell_type": "code",
   "execution_count": null,
   "metadata": {},
   "outputs": [],
   "source": []
  },
  {
   "cell_type": "code",
   "execution_count": null,
   "metadata": {},
   "outputs": [],
   "source": []
  }
 ],
 "metadata": {
  "interpreter": {
   "hash": "fdf977094d7e33ca9b273e4edb82ec8d00c70c4eba3aea7a271037703ae0c22d"
  },
  "kernelspec": {
   "display_name": "Python 3.9.7 ('2022.0.0')",
   "language": "python",
   "name": "python3"
  },
  "language_info": {
   "codemirror_mode": {
    "name": "ipython",
    "version": 3
   },
   "file_extension": ".py",
   "mimetype": "text/x-python",
   "name": "python",
   "nbconvert_exporter": "python",
   "pygments_lexer": "ipython3",
   "version": "3.7.4"
  },
  "orig_nbformat": 4
 },
 "nbformat": 4,
 "nbformat_minor": 2
}
