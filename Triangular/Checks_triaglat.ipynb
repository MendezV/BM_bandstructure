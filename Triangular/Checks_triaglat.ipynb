{
 "cells": [
  {
   "cell_type": "code",
   "execution_count": 1,
   "source": [
    "%pylab inline"
   ],
   "outputs": [
    {
     "output_type": "stream",
     "name": "stdout",
     "text": [
      "Populating the interactive namespace from numpy and matplotlib\n"
     ]
    }
   ],
   "metadata": {}
  },
  {
   "cell_type": "code",
   "execution_count": 2,
   "source": [
    "N=15\n",
    "n1=np.arange(0,N,1)\n",
    "n2=np.arange(0,N,1)\n",
    "k1=np.array([1,0])\n",
    "k2=np.array([1/2,np.sqrt(3)/2])\n",
    "n_1,n_2=np.meshgrid(n1,n2)\n",
    "G1=k1*N\n",
    "G2=k2*N\n",
    "\n",
    "scatter(k1[0]*n_1+k2[0]*n_2,k1[1]*n_1+k2[1]*n_2)\n",
    "plt.scatter(G1[0], G1[1])\n",
    "plt.scatter(G2[0], G2[1])\n",
    "plt.scatter(G1[0]+G2[0], G1[1]+G2[1])\n"
   ],
   "outputs": [
    {
     "output_type": "execute_result",
     "data": {
      "text/plain": [
       "<matplotlib.collections.PathCollection at 0x7f38aa9d8c50>"
      ]
     },
     "metadata": {},
     "execution_count": 2
    },
    {
     "output_type": "display_data",
     "data": {
      "text/plain": [
       "<Figure size 432x288 with 1 Axes>"
      ],
      "image/png": "[encoded data removed]"
     },
     "metadata": {
      "needs_background": "light"
     }
    }
   ],
   "metadata": {}
  },
  {
   "cell_type": "code",
   "execution_count": 3,
   "source": [
    "XsLatt=(k1[0]*n_1+k2[0]*n_2).T\n",
    "YsLatt=(k1[1]*n_1+k2[1]*n_2).T\n",
    "\n"
   ],
   "outputs": [],
   "metadata": {}
  },
  {
   "cell_type": "code",
   "execution_count": 4,
   "source": [
    "from scipy.spatial import Voronoi, voronoi_plot_2d\n",
    "def FBZ_points(b_1,b_2):\n",
    "    #creating reciprocal lattice\n",
    "    Np=4\n",
    "    n1=np.arange(-Np,Np+1)\n",
    "    n2=np.arange(-Np,Np+1)\n",
    "    Recip_lat=[]\n",
    "    for i in n1:\n",
    "        for j in n2:\n",
    "            point=b_1*i+b_2*j\n",
    "            Recip_lat.append(point)\n",
    "\n",
    "    #getting the nearest neighbours to the gamma point\n",
    "    Recip_lat_arr=np.array(Recip_lat)\n",
    "    dist=np.round(np.sqrt(np.sum(Recip_lat_arr**2, axis=1)),decimals=10)\n",
    "    sorted_dist=np.sort(list(set(dist)) )\n",
    "    points=Recip_lat_arr[np.where(dist<sorted_dist[2])[0]]\n",
    "\n",
    "    #getting the voronoi decomposition of the gamma point and the nearest neighbours\n",
    "    vor = Voronoi(points)\n",
    "    Vertices=(vor.vertices)\n",
    "\n",
    "    #ordering the points counterclockwise in the -pi,pi range\n",
    "    angles_list=list(np.arctan2(Vertices[:,1],Vertices[:,0]))\n",
    "    Vertices_list=list(Vertices)\n",
    "\n",
    "    #joint sorting the two lists for angles and vertices for convenience later.\n",
    "    # the linear plot routine requires the points to be in order\n",
    "    # atan2 takes into acount quadrant to get the sign of the angle\n",
    "    angles_list, Vertices_list = (list(t) for t in zip(*sorted(zip(angles_list, Vertices_list))))\n",
    "\n",
    "    ##getting the M points as the average of consecutive K- Kp points\n",
    "    Edges_list=[]\n",
    "    for i in range(len(Vertices_list)):\n",
    "        Edges_list.append([(Vertices_list[i][0]+Vertices_list[i-1][0])/2,(Vertices_list[i][1]+Vertices_list[i-1][1])/2])\n",
    "\n",
    "    Gamma=[0,0]\n",
    "    K=Vertices_list[0::2]\n",
    "    Kp=Vertices_list[1::2]\n",
    "    M=Edges_list[0::2]\n",
    "    Mp=Edges_list[1::2]\n",
    "\n",
    "    return Vertices_list, Gamma, K, Kp, M, Mp\n",
    "\n",
    "Vertices_list, Gamma, K, Kp, M, Mp=FBZ_points(G1,G2)"
   ],
   "outputs": [],
   "metadata": {}
  },
  {
   "cell_type": "code",
   "execution_count": 5,
   "source": [
    "scatter(XsLatt,YsLatt, s=1, c='r')\n",
    "VL=np.array(Vertices_list)\n",
    "plot(VL[:,0],VL[:,1])\n",
    "VL2=np.array(VL)\n",
    "VL2[:,0]=VL[:,0]+G1[0]\n",
    "VL2[:,1]=VL[:,1]+G1[1]\n",
    "Vertices_list2=list(VL2)\n",
    "plot(VL2[:,0],VL2[:,1])\n",
    "VL3=np.array(VL)\n",
    "VL3[:,0]=VL[:,0]+G2[0]\n",
    "VL3[:,1]=VL[:,1]+G2[1]\n",
    "Vertices_list3=list(VL3)\n",
    "plot(VL3[:,0],VL3[:,1])\n",
    "VL4=np.array(VL)\n",
    "VL4[:,0]=VL[:,0]+G2[0]+G1[0]\n",
    "VL4[:,1]=VL[:,1]+G2[1]+G1[1]\n",
    "Vertices_list4=list(VL4)\n",
    "plot(VL4[:,0],VL4[:,1])"
   ],
   "outputs": [
    {
     "output_type": "execute_result",
     "data": {
      "text/plain": [
       "[<matplotlib.lines.Line2D at 0x7f38a955bf50>]"
      ]
     },
     "metadata": {},
     "execution_count": 5
    },
    {
     "output_type": "display_data",
     "data": {
      "text/plain": [
       "<Figure size 432x288 with 1 Axes>"
      ],
      "image/png": "[encoded data removed]"
     },
     "metadata": {
      "needs_background": "light"
     }
    }
   ],
   "metadata": {}
  },
  {
   "cell_type": "code",
   "execution_count": 6,
   "source": [
    "def is_within_polygon(polygon, point):\n",
    "    A = []\n",
    "    B = []\n",
    "    C = []  \n",
    "    for i in range(len(polygon)):\n",
    "        p1 = polygon[i]\n",
    "        p2 = polygon[(i + 1) % len(polygon)]\n",
    "\n",
    "        # calculate A, B and C\n",
    "        a = -(p2[1] - p1[1])\n",
    "        b = p2[0] - p1[0]\n",
    "        c = -(a * p1[0] + b * p1[1])\n",
    "        \n",
    "        A.append(a)\n",
    "        B.append(b)\n",
    "        C.append(c)\n",
    "\n",
    "    D = []\n",
    "    for i in range(len(A)):\n",
    "        d = A[i] * point[0] + B[i] * point[1] + C[i]\n",
    "        D.append(d)\n",
    "\n",
    "    t1 = np.all([d >= 0 for d in D])\n",
    "    t2 = np.all([d <= 0 for d in D])\n",
    "    x=t1 or t2\n",
    "    return x\n",
    "\n",
    "def is_within_polygon_no_edge(polygon, point):\n",
    "    A = []\n",
    "    B = []\n",
    "    C = []  \n",
    "    for i in range(len(polygon)):\n",
    "        p1 = polygon[i]\n",
    "        p2 = polygon[(i + 1) % len(polygon)]\n",
    "        \n",
    "        \n",
    "        # calculate A, B and C\n",
    "        a = -(p2[1] - p1[1])\n",
    "        b = p2[0] - p1[0]\n",
    "        c = -(a * p1[0] + b * p1[1])\n",
    "        \n",
    "        A.append(a)\n",
    "        B.append(b)\n",
    "        C.append(c)\n",
    "\n",
    "    D = []\n",
    "    for i in range(len(A)):\n",
    "        d = A[i] * point[0] + B[i] * point[1] + C[i]\n",
    "        D.append(d)\n",
    "        \n",
    "    t1 = np.all([d > 0 for d in D])\n",
    "    t2 = np.all([d < 0 for d in D])\n",
    "    x=t1 or t2\n",
    "    return x"
   ],
   "outputs": [],
   "metadata": {}
  },
  {
   "cell_type": "code",
   "execution_count": 7,
   "source": [
    "is_within_polygon(Vertices_list, [10,0])"
   ],
   "outputs": [
    {
     "output_type": "execute_result",
     "data": {
      "text/plain": [
       "False"
      ]
     },
     "metadata": {},
     "execution_count": 7
    }
   ],
   "metadata": {}
  },
  {
   "cell_type": "code",
   "execution_count": 8,
   "source": [
    "XsLatt=(k1[0]*n_1+k2[0]*n_2).T\n",
    "YsLatt=(k1[1]*n_1+k2[1]*n_2).T\n",
    "\n",
    "for l in range(N*N):\n",
    "    i=int(l%N)\n",
    "    j=int((l-i)/N)\n",
    "    if is_within_polygon(Vertices_list, [XsLatt[i,j],YsLatt[i,j]]):\n",
    "        XsLatt[i,j]=XsLatt[i,j]\n",
    "        YsLatt[i,j]=YsLatt[i,j]\n",
    "    elif is_within_polygon(Vertices_list2, [XsLatt[i,j],YsLatt[i,j]]):\n",
    "        XsLatt[i,j]=XsLatt[i,j]-G1[0]\n",
    "        YsLatt[i,j]=YsLatt[i,j]-G1[1]\n",
    "    elif is_within_polygon(Vertices_list3, [XsLatt[i,j],YsLatt[i,j]]):\n",
    "        XsLatt[i,j]=XsLatt[i,j]-G2[0]\n",
    "        YsLatt[i,j]=YsLatt[i,j]-G2[1]\n",
    "    elif is_within_polygon(Vertices_list4, [XsLatt[i,j],YsLatt[i,j]]):\n",
    "        XsLatt[i,j]=XsLatt[i,j]-G2[0]-G1[0]\n",
    "        YsLatt[i,j]=YsLatt[i,j]-G2[1]-G1[1]\n",
    "    else:\n",
    "        XsLatt[i,j]=XsLatt[i,j]-G1[0]\n",
    "        YsLatt[i,j]=YsLatt[i,j]-G1[1]\n",
    "\n",
    "\n"
   ],
   "outputs": [],
   "metadata": {}
  },
  {
   "cell_type": "code",
   "execution_count": 9,
   "source": [
    "VV=np.array(Vertices_list+[Vertices_list[0]])\n",
    "plot(VV[:,0],VV[:,1])\n",
    "scatter(XsLatt,YsLatt, s=3, c=np.cos(XsLatt+YsLatt))"
   ],
   "outputs": [
    {
     "output_type": "execute_result",
     "data": {
      "text/plain": [
       "<matplotlib.collections.PathCollection at 0x7f38a9461b50>"
      ]
     },
     "metadata": {},
     "execution_count": 9
    },
    {
     "output_type": "display_data",
     "data": {
      "text/plain": [
       "<Figure size 432x288 with 1 Axes>"
      ],
      "image/png": "[encoded data removed]"
     },
     "metadata": {
      "needs_background": "light"
     }
    }
   ],
   "metadata": {}
  },
  {
   "cell_type": "code",
   "execution_count": 46,
   "source": [
    "points=[[0,0],[3,3],[4,4],[1,3]]\n",
    "vor = Voronoi(points)\n",
    "print((vor.vertices))\n",
    "\n",
    "N=15\n",
    "n1=np.arange(0,N,1)\n",
    "n2=np.arange(0,N,1)\n",
    "k1=np.array([1,0])\n",
    "k2=np.array([1/2,np.sqrt(3)/2])\n",
    "n_1,n_2=np.meshgrid(n1,n2)\n",
    "G1=k1*(N-1)\n",
    "G2=k2*(N-1)\n",
    "\n",
    "scatter(k1[0]*n_1+k2[0]*n_2,k1[1]*n_1+k2[1]*n_2)\n",
    "plt.scatter(G1[0], G1[1])\n",
    "plt.scatter(G2[0], G2[1])\n",
    "plt.scatter(G1[0]+G2[0], G1[1]+G2[1])\n",
    "\n",
    "\n"
   ],
   "outputs": [
    {
     "output_type": "stream",
     "name": "stdout",
     "text": [
      "[[2. 1.]\n",
      " [2. 5.]]\n"
     ]
    },
    {
     "output_type": "execute_result",
     "data": {
      "text/plain": [
       "<matplotlib.collections.PathCollection at 0x7f38a70e3f10>"
      ]
     },
     "metadata": {},
     "execution_count": 46
    },
    {
     "output_type": "display_data",
     "data": {
      "text/plain": [
       "<Figure size 432x288 with 1 Axes>"
      ],
      "image/png": "[encoded data removed]"
     },
     "metadata": {
      "needs_background": "light"
     }
    }
   ],
   "metadata": {}
  },
  {
   "cell_type": "code",
   "execution_count": 49,
   "source": [
    "points=[[0,0],G1,G2,G1+G2]\n",
    "\n",
    "vor = Voronoi(points)\n",
    "fig = voronoi_plot_2d(vor, show_vertices=False, line_colors='orange',line_width=2, line_alpha=0.6, point_size=2)\n",
    "\n",
    "\n",
    "\n",
    "\n",
    "scatter(np.array(vor.vertices)[:,0],np.array(vor.vertices)[:,1])\n",
    "scatter(np.array(points)[:,0],np.array(points)[:,1])\n",
    "scatter(np.array(points)[1:,0]/2,np.array(points)[1:,1]/2 )\n",
    "scatter(np.array(points)[2,0]+np.array(points)[1,0]/2,np.array(points)[2,1]+np.array(points)[1,1]/2)\n",
    "scatter(np.array(points)[1,0]+np.array(points)[2,0]/2,np.array(points)[1,1]+np.array(points)[2,1]/2)\n",
    "plt.show()\n",
    "\n",
    "\n",
    "\n",
    "print((vor.vertices))"
   ],
   "outputs": [
    {
     "output_type": "display_data",
     "data": {
      "text/plain": [
       "<Figure size 432x288 with 1 Axes>"
      ],
      "image/png": "[encoded data removed]"
     },
     "metadata": {
      "needs_background": "light"
     }
    },
    {
     "output_type": "stream",
     "name": "stdout",
     "text": [
      "[[ 7.          4.04145188]\n",
      " [14.          8.08290377]]\n"
     ]
    }
   ],
   "metadata": {}
  },
  {
   "cell_type": "code",
   "execution_count": 61,
   "source": [
    "Gamma=[[0,0],G1,G2,G1+G2]\n",
    "\n",
    "vor = Voronoi(Gamma)\n",
    "fig = voronoi_plot_2d(vor, show_vertices=False, line_colors='orange',line_width=2, line_alpha=0.6, point_size=2)\n",
    "\n",
    "K=np.array(vor.vertices)[1,:]\n",
    "Kprime=np.array(vor.vertices)[0,:]\n",
    "M=np.array(points)[3,:]/2\n",
    "Mprime_li=[]\n",
    "Mprime_li.append(np.array(points)[1,:]/2)\n",
    "Mprime_li.append(np.array(points)[2,:]/2)\n",
    "Mprime_li.append(np.array(points)[2,:]+np.array(points)[1,:]/2)\n",
    "Mprime_li.append(np.array(points)[1,:]+np.array(points)[2,:]/2)\n",
    "Mprime=np.array(Mprime_li)\n",
    "\n",
    "scatter(K[0],K[1])\n",
    "scatter(Kprime[0],Kprime[1])\n",
    "scatter(M[0],M[1])\n",
    "scatter(Kprime[:,0],Mprime[:,1])\n",
    "\n",
    "print((vor.vertices))"
   ],
   "outputs": [
    {
     "output_type": "stream",
     "name": "stdout",
     "text": [
      "[[ 7.          4.04145188]\n",
      " [14.          8.08290377]]\n"
     ]
    },
    {
     "output_type": "display_data",
     "data": {
      "text/plain": [
       "<Figure size 432x288 with 1 Axes>"
      ],
      "image/png": "[encoded data removed]"
     },
     "metadata": {
      "needs_background": "light"
     }
    }
   ],
   "metadata": {}
  },
  {
   "cell_type": "markdown",
   "source": [
    "\n"
   ],
   "metadata": {}
  },
  {
   "cell_type": "markdown",
   "source": [],
   "metadata": {}
  },
  {
   "cell_type": "markdown",
   "source": [],
   "metadata": {}
  }
 ],
 "metadata": {
  "kernelspec": {
   "name": "python3",
   "display_name": "Python 3.7.4 64-bit ('anaconda3': virtualenv)"
  },
  "language_info": {
   "codemirror_mode": {
    "name": "ipython",
    "version": 3
   },
   "file_extension": ".py",
   "mimetype": "text/x-python",
   "name": "python",
   "nbconvert_exporter": "python",
   "pygments_lexer": "ipython3",
   "version": "3.7.4"
  },
  "interpreter": {
   "hash": "72619fe6a08a2ce12a2162f31f11ceff35ce0286c4001840431d1c153d3c42eb"
  }
 },
 "nbformat": 4,
 "nbformat_minor": 2
}