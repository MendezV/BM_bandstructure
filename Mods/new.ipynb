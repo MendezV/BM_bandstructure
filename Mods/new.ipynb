{
 "cells": [
  {
   "cell_type": "code",
   "execution_count": 1,
   "metadata": {},
   "outputs": [],
   "source": [
    "import MoireLattice\n",
    "import numpy as np\n",
    "import matplotlib.pyplot as plt"
   ]
  },
  {
   "cell_type": "code",
   "execution_count": 2,
   "metadata": {},
   "outputs": [
    {
     "name": "stdout",
     "output_type": "stream",
     "text": [
      "starting sampling in reciprocal space....\n",
      "finished sampling in reciprocal space....t= 0.003432750701904297  s\n",
      "37 numer of sampling lattice points\n",
      "taking 0 umklapps\n"
     ]
    }
   ],
   "source": [
    "#Lattice parameters \n",
    "#lattices with different normalizations\n",
    "modulation_theta=1.05\n",
    "Nsamp=6\n",
    "theta=modulation_theta*np.pi/180  # magic angle\n",
    "l=MoireLattice.MoireTriangLattice(Nsamp,theta,0)\n",
    "lq=MoireLattice.MoireTriangLattice(Nsamp,theta,2) #this one\n",
    "[KX,KY]=lq.Generate_lattice()\n",
    "Npoi=np.size(KX); print(Npoi, \"numer of sampling lattice points\")\n",
    "[q1,q2,q3]=l.q\n",
    "q=np.sqrt(q1@q1)\n",
    "umkl=0\n",
    "print(f\"taking {umkl} umklapps\")\n",
    "VV=lq.boundary()"
   ]
  },
  {
   "cell_type": "code",
   "execution_count": 3,
   "metadata": {},
   "outputs": [
    {
     "data": {
      "text/plain": [
       "<matplotlib.collections.PathCollection at 0x7f29602e15b0>"
      ]
     },
     "execution_count": 3,
     "metadata": {},
     "output_type": "execute_result"
    },
    {
     "data": {
      "image/png": "[encoded data removed]",
      "text/plain": [
       "<Figure size 432x288 with 1 Axes>"
      ]
     },
     "metadata": {
      "needs_background": "light"
     },
     "output_type": "display_data"
    }
   ],
   "source": [
    "plt.scatter(KX, KY)"
   ]
  },
  {
   "cell_type": "code",
   "execution_count": 4,
   "metadata": {},
   "outputs": [
    {
     "name": "stdout",
     "output_type": "stream",
     "text": [
      "starting sampling in reciprocal space....\n",
      "(36,)\n",
      "(18,)\n",
      "(18,)\n",
      "(13,)\n",
      "(13,)\n",
      "(5,)\n",
      "(5,)\n",
      "(5,)\n",
      "(5,)\n",
      "(0,)\n",
      "(0,)\n",
      "(0,)\n",
      "(0,)\n",
      "(0,)\n",
      "finished sampling in reciprocal space....t= 0.011668920516967773  s\n",
      "36 numer of sampling lattice points\n",
      "taking 0 umklapps\n"
     ]
    }
   ],
   "source": [
    "VV=lq.boundary()\n",
    "[KX,KY]=lq.Generate_lattice_2()\n",
    "Npoi=np.size(KX); print(Npoi, \"numer of sampling lattice points\")\n",
    "[q1,q2,q3]=l.q\n",
    "q=np.sqrt(q1@q1)\n",
    "umkl=0\n",
    "print(f\"taking {umkl} umklapps\")\n",
    "VV=lq.boundary()"
   ]
  },
  {
   "cell_type": "code",
   "execution_count": 5,
   "metadata": {},
   "outputs": [
    {
     "data": {
      "text/plain": [
       "<matplotlib.collections.PathCollection at 0x7f29601e50a0>"
      ]
     },
     "execution_count": 5,
     "metadata": {},
     "output_type": "execute_result"
    },
    {
     "data": {
      "image/png": "[encoded data removed]",
      "text/plain": [
       "<Figure size 432x288 with 1 Axes>"
      ]
     },
     "metadata": {
      "needs_background": "light"
     },
     "output_type": "display_data"
    }
   ],
   "source": [
    "plt.scatter(KX, KY)"
   ]
  },
  {
   "cell_type": "code",
   "execution_count": null,
   "metadata": {},
   "outputs": [],
   "source": []
  }
 ],
 "metadata": {
  "interpreter": {
   "hash": "7639067863af19a93af29fcfb635aaf9acd3c79408c60a0e16bc1eebbcf0e31d"
  },
  "kernelspec": {
   "display_name": "Python 3.8.8 ('base')",
   "language": "python",
   "name": "python3"
  },
  "language_info": {
   "codemirror_mode": {
    "name": "ipython",
    "version": 3
   },
   "file_extension": ".py",
   "mimetype": "text/x-python",
   "name": "python",
   "nbconvert_exporter": "python",
   "pygments_lexer": "ipython3",
   "version": "3.8.8"
  },
  "orig_nbformat": 4
 },
 "nbformat": 4,
 "nbformat_minor": 2
}
